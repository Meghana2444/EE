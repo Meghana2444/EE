{
  "nbformat": 4,
  "nbformat_minor": 0,
  "metadata": {
    "colab": {
      "provenance": [],
      "authorship_tag": "ABX9TyM1hyCn8rBUSMO+WAnmCnao",
      "include_colab_link": true
    },
    "kernelspec": {
      "name": "python3",
      "display_name": "Python 3"
    },
    "language_info": {
      "name": "python"
    }
  },
  "cells": [
    {
      "cell_type": "markdown",
      "metadata": {
        "id": "view-in-github",
        "colab_type": "text"
      },
      "source": [
        "<a href=\"https://colab.research.google.com/github/Meghana2444/EE/blob/main/2305a21l14.ipynb\" target=\"_parent\"><img src=\"https://colab.research.google.com/assets/colab-badge.svg\" alt=\"Open In Colab\"/></a>"
      ]
    },
    {
      "cell_type": "code",
      "execution_count": null,
      "metadata": {
        "colab": {
          "base_uri": "https://localhost:8080/"
        },
        "id": "5m0i7rL9vSdp",
        "outputId": "f2391138-b98e-44b9-9cf2-0109118bef5a"
      },
      "outputs": [
        {
          "output_type": "stream",
          "name": "stdout",
          "text": [
            "current date and time: 2024-09-08 13:05:52.433846\n",
            "enter previous month units 52\n",
            "enter current month units101\n",
            "enter type of customer 0;res 1;com 2;adv0\n",
            "----------------------------\n",
            "TGNPDCL\n",
            "formatted date and time: 2024-09-08 13:05:52\n",
            "----------------------------\n",
            "previou units= 52\n",
            "present units= 101\n",
            "energy consumu= 49\n",
            "energy charges= 95.55\n",
            "fixed charges= 10\n",
            "customer charges= 40\n",
            "electricity duty= 2.94\n",
            "bill_amount= 148.49\n",
            "----------------------------\n"
          ]
        }
      ],
      "source": [
        "import datetime\n",
        "now = datetime.datetime.now()\n",
        "print (\"current date and time:\",now)\n",
        "formatted_now = now.strftime(\"%Y-%m-%d %H:%M:%S\")\n",
        "\n",
        "count=0\n",
        "pu=int(input(\"enter previous month units \"))\n",
        "cu=int(input(\"enter current month units\"))\n",
        "tc=int(input(\"enter type of customer 0;res 1;com 2;adv\"))\n",
        "u=cu-pu\n",
        "ed=0.06*u\n",
        "if(tc==0):\n",
        "   if(u<=100):\n",
        "     if(u<=50):\n",
        "      ec=1.95*u\n",
        "      fc=10\n",
        "      cc=40\n",
        "   else:\n",
        "        ec=3.10*u\n",
        "        fc=10\n",
        "        cc=70\n",
        "else:\n",
        "            if(u>100 and u<200):\n",
        "             ec=100*3.4+(u-100)*4.8\n",
        "             fc=10\n",
        "             cc=90\n",
        "            else:\n",
        "              print(\"this application is not supported\")\n",
        "              count=count+1\n",
        "            if(tc==1):\n",
        "              if(u<=50):\n",
        "                ec=7*u\n",
        "                fc=60\n",
        "                cc=50\n",
        "              else:\n",
        "                           print(\"this application is not supported\")\n",
        "                           count=count+1\n",
        "if(tc==2):\n",
        "                ec=13*u\n",
        "                fc=70\n",
        "                cc=160\n",
        "if(count==0):\n",
        "                bill_amount=ec+fc+cc+ed\n",
        "                print(\"----------------------------\")\n",
        "                print(\"TGNPDCL\")\n",
        "                print(\"formatted date and time:\",formatted_now)\n",
        "                print(\"----------------------------\")\n",
        "                print(\"previou units=\",pu)\n",
        "                print(\"present units=\",cu)\n",
        "                print(\"energy consumu=\",u)\n",
        "                print(\"energy charges=\",ec)\n",
        "                print(\"fixed charges=\",fc)\n",
        "                print(\"customer charges=\",cc)\n",
        "                print(\"electricity duty=\",ed)\n",
        "                print(\"bill_amount=\",bill_amount)\n",
        "                print(\"----------------------------\")"
      ]
    }
  ]
}