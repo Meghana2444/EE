{
  "nbformat": 4,
  "nbformat_minor": 0,
  "metadata": {
    "colab": {
      "provenance": [],
      "authorship_tag": "ABX9TyMJ0U2STdrY0adufYdZe7FO",
      "include_colab_link": true
    },
    "kernelspec": {
      "name": "python3",
      "display_name": "Python 3"
    },
    "language_info": {
      "name": "python"
    }
  },
  "cells": [
    {
      "cell_type": "markdown",
      "metadata": {
        "id": "view-in-github",
        "colab_type": "text"
      },
      "source": [
        "<a href=\"https://colab.research.google.com/github/Meghana2444/EE/blob/main/L14.ipynb\" target=\"_parent\"><img src=\"https://colab.research.google.com/assets/colab-badge.svg\" alt=\"Open In Colab\"/></a>"
      ]
    },
    {
      "cell_type": "code",
      "execution_count": 1,
      "metadata": {
        "colab": {
          "base_uri": "https://localhost:8080/"
        },
        "id": "m_e1idkAPN_j",
        "outputId": "019a6486-abca-45c1-d9d8-fc6548e647a9"
      },
      "outputs": [
        {
          "output_type": "stream",
          "name": "stdout",
          "text": [
            "enter transformer rating in VA5000\n",
            "enter transformer core losses in watts100\n",
            "enter transformer full load copper losses in watts800\n",
            "enter transformer power factor1\n",
            "transformer loding1\n",
            "rating of transformer= 5000.0 va\n",
            "core losses of transformer= 100.0 w\n",
            "full load copper losses of transformer= 800.0 w\n",
            "power factor= 1.0\n",
            "transformer loading= 1.0\n",
            "copper losses= 800.0 w\n",
            "effeciency= 84.7457627118644 %\n",
            "loading at which transformer has max effeciency= 35.35533905932738 %\n"
          ]
        }
      ],
      "source": [
        "import math as mt\n",
        "rating=input(\"enter transformer rating in VA\")\n",
        "core=input(\"enter transformer core losses in watts\")\n",
        "fcl=input(\"enter transformer full load copper losses in watts\" )\n",
        "pf=input(\"enter transformer power factor\")\n",
        "k=input(\"transformer loding\")\n",
        "op=float(k)*float(rating)*float(pf)\n",
        "cl=(float(k)**2)*float(fcl)\n",
        "eff=(op*100)/(op+float(core)+cl)\n",
        "kmax=mt.sqrt(float(core)/float(fcl))\n",
        "print(\"rating of transformer=\",float(rating),\"va\")\n",
        "print(\"core losses of transformer=\",float(core),\"w\")\n",
        "print(\"full load copper losses of transformer=\",float(fcl),\"w\")\n",
        "print(\"power factor=\",float(pf))\n",
        "print(\"transformer loading=\",float(k))\n",
        "print(\"copper losses=\",cl,\"w\")\n",
        "print(\"effeciency=\",eff,\"%\")\n",
        "print(\"loading at which transformer has max effeciency=\",kmax*100,\"%\")"
      ]
    }
  ]
}