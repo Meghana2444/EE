{
  "nbformat": 4,
  "nbformat_minor": 0,
  "metadata": {
    "colab": {
      "provenance": [],
      "authorship_tag": "ABX9TyM06d21hSc8LrpMhfL4Z9RY",
      "include_colab_link": true
    },
    "kernelspec": {
      "name": "python3",
      "display_name": "Python 3"
    },
    "language_info": {
      "name": "python"
    }
  },
  "cells": [
    {
      "cell_type": "markdown",
      "metadata": {
        "id": "view-in-github",
        "colab_type": "text"
      },
      "source": [
        "<a href=\"https://colab.research.google.com/github/Meghana2444/EE/blob/main/MeghanaL14.ipynb\" target=\"_parent\"><img src=\"https://colab.research.google.com/assets/colab-badge.svg\" alt=\"Open In Colab\"/></a>"
      ]
    },
    {
      "cell_type": "code",
      "execution_count": 1,
      "metadata": {
        "colab": {
          "base_uri": "https://localhost:8080/"
        },
        "id": "Tvo1V90BqG9e",
        "outputId": "2d0dc7ec-92f5-4032-cd5e-78033cc59023"
      },
      "outputs": [
        {
          "output_type": "stream",
          "name": "stdout",
          "text": [
            "enter the transformer rating in volt ampere:5000\n",
            "enter the primary voltage in volts:220\n",
            "enter the secondary voltage in volts:440\n",
            "enter the open circuit test voltage in volts:220\n",
            "enter the open circuit test current in amperes:2\n",
            "enter the open circuit test power in watts:250\n",
            "enter the short circuit test voltage in volts:75\n",
            "enter the short circuit test current in amperes:10\n",
            "enter the short circuit test power in watts:500\n",
            "enter the power factor of a transformer:1\n",
            "enter the loading of a transformer:0.25\n",
            "effeciency= 81.63265306122449\n",
            "ro= 193.6\n",
            "xo= 133.67309875319802\n",
            "culosses= 31.25\n",
            "no-load phase angle 0.9665016340022088\n"
          ]
        }
      ],
      "source": [
        "import math\n",
        "r=float(input('enter the transformer rating in volt ampere:'))\n",
        "pv=float(input('enter the primary voltage in volts:'))\n",
        "sv=float(input('enter the secondary voltage in volts:'))\n",
        "vo=float(input('enter the open circuit test voltage in volts:'))\n",
        "io=float(input('enter the open circuit test current in amperes:'))\n",
        "wo=float(input('enter the open circuit test power in watts:'))\n",
        "vsc=float(input('enter the short circuit test voltage in volts:'))\n",
        "isc=float(input('enter the short circuit test current in amperes:'))\n",
        "wsc=float(input('enter the short circuit test power in watts:'))\n",
        "pf=float(input('enter the power factor of a transformer:'))\n",
        "x=float(input('enter the loading of a transformer:'))\n",
        "eff=(x*r*100)/(x*r+wo+x*x*wsc)\n",
        "noloadpf=wo/(vo*io)\n",
        "iw=io*noloadpf\n",
        "imv=io*math.sqrt(1-noloadpf**2)\n",
        "ro=vo/iw\n",
        "xo=vo/imv\n",
        "k=sv/pv\n",
        "rsc=wsc/(isc**2)\n",
        "zsc=vsc/isc\n",
        "xsc=math.sqrt(zsc*2-rsc*2)\n",
        "xcu=wsc*(x**2)\n",
        "npa=math.acos(wo/(vo*io))\n",
        "print(\"effeciency=\",eff)\n",
        "print(\"ro=\",ro)\n",
        "print(\"xo=\",xo)\n",
        "print(\"culosses=\",xcu)\n",
        "print(\"no-load phase angle\",npa)"
      ]
    }
  ]
}